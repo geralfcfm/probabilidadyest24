{
 "cells": [
  {
   "cell_type": "markdown",
   "metadata": {},
   "source": [
    "# Tarea Probabilidad"
   ]
  },
  {
   "cell_type": "markdown",
   "metadata": {},
   "source": [
    "1. Alice tiene 2 hijos y uno de ellos es niña. ¿Cuál es la probabilidad dque el otro hijo también sea niña?"
   ]
  },
  {
   "cell_type": "code",
   "execution_count": 2,
   "metadata": {},
   "outputs": [
    {
     "name": "stdout",
     "output_type": "stream",
     "text": [
      "0.3333333333333333\n"
     ]
    }
   ],
   "source": [
    "#Tomamos como premisa que la probabilidad de que sea niño es 0.5 y de que sea niña es 0.5\n",
    "#Existen en total cuatro posibles combinaciones de género para dos hijos:\n",
    "universo = [(\"niño\", \"niña\"), (\"niño\", \"niño\"), (\"niña\", \"niño\"), (\"niña\", \"niña\")]\n",
    "#Pero tenemos la condición de que al menos uno de los hijos sea niña, por lo que eliminamos la combinación (\"niño\", \"niño\") y tenemos que:\n",
    "universo.pop(0)\n",
    "probabilildad_ambos_niña = len([x for x in universo if x == (\"niña\", \"niña\")]) / len(universo)\n",
    "print(probabilildad_ambos_niña)"
   ]
  },
  {
   "cell_type": "markdown",
   "metadata": {},
   "source": [
    "2. Un dado justo se tira 2 veces. ¿Cuál es la probabilidad de obtener un 2 en la primera tirada y no tener un 4 en la segunda tirada?"
   ]
  },
  {
   "cell_type": "code",
   "execution_count": 4,
   "metadata": {},
   "outputs": [
    {
     "name": "stdout",
     "output_type": "stream",
     "text": [
      "0.1388888888888889\n"
     ]
    }
   ],
   "source": [
    "# Como tenemos un dado justo, la probabilidad de obtener un 2 en la primera tirada es de 1/6\n",
    "prob_2_primera_tirada = 1 / 6\n",
    "# Y la probabilidad de no obtener un 4 en la segunda tirada es de 5/6\n",
    "prob_no_4_segunda_tirada = 5 / 6\n",
    "# Como la primera y la segunda tirada son eventos indepentientes, entonces la probabilidad combinada es:\n",
    "probabilidad_combinada = prob_2_primera_tirada * prob_no_4_segunda_tirada\n",
    "print(probabilidad_combinada)"
   ]
  },
  {
   "cell_type": "markdown",
   "metadata": {},
   "source": [
    "3. Consideremos un dado de 4 lados (Tetraedro) que se tira 2 veces. ¿Cual es la probabilidad de que el número en la primera tirada sea estríctamente mas gande que el número que sale en la segunda tirada? "
   ]
  },
  {
   "cell_type": "code",
   "execution_count": 9,
   "metadata": {},
   "outputs": [
    {
     "name": "stdout",
     "output_type": "stream",
     "text": [
      "0.375\n"
     ]
    }
   ],
   "source": [
    "# El tamaño del espacio muestral para dos tiradas de un tetraedro es 4 * 4 = 16\n",
    "len_espacio_muestral = 16\n",
    "\n",
    "# En cualquier tirada, podemos obtener un 1, 2, 3 o 4\n",
    "# Entonces contemos en cuántas tiradas en el espacio muestral el número de la primera tirada es mayor al de la segunda\n",
    "num_tiradas_primera_mayor = len([x for x in range(1, 5) for y in range(1, 5) if x > y])\n",
    "#y calculemos la probabilidad de que el número de la primera tirada sea mayor al de la segunda:\n",
    "probabilidad_primera_mayor = num_tiradas_primera_mayor / len_espacio_muestral\n",
    "print(probabilidad_primera_mayor)"
   ]
  },
  {
   "cell_type": "markdown",
   "metadata": {},
   "source": [
    "4. Anita elige aleatoreamente 4 cartas de un mazo de 52 cartas y las regresa al mazo. Luego Babita elige 8 cartas del mazo. ¿Cuál es la probabilidad de que las 4 cartas que eligió Anita se encontraran en la 8 cartas que eligió Babita?"
   ]
  },
  {
   "cell_type": "code",
   "execution_count": 87,
   "metadata": {
    "vscode": {
     "languageId": "ruby"
    }
   },
   "outputs": [
    {
     "name": "stdout",
     "output_type": "stream",
     "text": [
      "La probabilidad de que las 4 cartas de Anita estén dentro de las 8 cartas de Babita es 0.0002585649644473174\n"
     ]
    }
   ],
   "source": [
    "# Primero calculamos de cuántas maneras podemos elegir 8 cartas de 52\n",
    "# Cada que tomemos una carta, hay una carta menos en el mazo, de modo que el número de maneras de elegir 8 cartas de 52 es:\n",
    "combinaciones_8_de_52 = 52*51*50*49*48*47*46*45\n",
    "# No importa el orden en que se eligen las cartas, y en la operación de arriba, contemos varias veces las mismas combinaciones\n",
    "# Para corregirlo tenemos que dividir entre el número de maneras en que se pueden ordenar 8 cartas, que es 8!\n",
    "combinaciones_8_de_52 /= 8*7*6*5*4*3*2*1\n",
    "\n",
    "# En el caso en el que las 4 cartas de Anita SÍ estén dentro de las 8 cartas de Babita, entonces\n",
    "# Babita SÍ elige las 4 cartas de Anita y además elige 4 cartas adicionales de las 48 cartas restantes que no eligió Anita\n",
    "# Siguiendo la misma lógica que en el caso anterior, el número de maneras de elegir 4 cartas de 48 es:\n",
    "combinaciones_4_de_48 = 48*47*46*45/(4*3*2*1)\n",
    "# Notemos que este es el número de casos en los que las 4 cartas de Anita SÍ están dentro de las 8 cartas de Babita.\n",
    "\n",
    "# Entonces, la probabilidad de que las 4 cartas de Anita estén dentro de las 8 cartas de Babita es\n",
    "# la división de los casos favorables entre los casos posibles, o sea:\n",
    "probabilidad = combinaciones_4_de_48/combinaciones_8_de_52\n",
    "print (\"La probabilidad de que las 4 cartas de Anita estén dentro de las 8 cartas de Babita es\", probabilidad)"
   ]
  },
  {
   "cell_type": "markdown",
   "metadata": {},
   "source": [
    "5. En un juego de cartas, a un jugador se le reparten 13 cartas de un mazo de 52 cartas. ¿Cuál es la probabilidad de que la carta 13 que se te reparta sea un rey si no te salió un rey en las primeras 12 cartas?. (Hay 4 reyes en el mazo)"
   ]
  },
  {
   "cell_type": "code",
   "execution_count": 13,
   "metadata": {
    "vscode": {
     "languageId": "ruby"
    }
   },
   "outputs": [
    {
     "name": "stdout",
     "output_type": "stream",
     "text": [
      "0.1\n"
     ]
    }
   ],
   "source": [
    "# Si ya se repartieron 12 cartas, quedan 40 cartas en el mazo\n",
    "# De esas 40 cartas restantes, 4 son reyes. De allí me darán una carta.\n",
    "# probabilidad_rey = número de reyes / número de cartas restantes\n",
    "probabilidad_rey = 4/40\n",
    "print(probabilidad_rey)\n"
   ]
  },
  {
   "cell_type": "markdown",
   "metadata": {},
   "source": [
    "6. En un dado de 6 caras. ¿Cuál es la probabilidad de que en 6 tiradas, todos los resultados sean únicos? (En cada tirada un número diferente)"
   ]
  },
  {
   "cell_type": "code",
   "execution_count": 17,
   "metadata": {
    "vscode": {
     "languageId": "ruby"
    }
   },
   "outputs": [
    {
     "name": "stdout",
     "output_type": "stream",
     "text": [
      "0.015432098765432098\n"
     ]
    }
   ],
   "source": [
    "#Cada tirada es un evento independiente, entonces el tamaño del espacio muestral es\n",
    "len_espacio_muestral = 6**6\n",
    "#Calculemos el número de casos favorables, es decir en cuántos casos todos los numeros del conjunto de las seis tiradas son distintos\n",
    "#Esto es un problema de combinación sin reemplazo, porque una vez que obtuvimos un número, no lo podemos volver a obtener\n",
    "#Entonces el número de casos favorables es\n",
    "casos_favorables = 6*5*4*3*2*1\n",
    "#La probabilidad de que todos los números sean distintos es\n",
    "probabilidad = casos_favorables / len_espacio_muestral\n",
    "print(probabilidad)"
   ]
  },
  {
   "cell_type": "markdown",
   "metadata": {
    "vscode": {
     "languageId": "plaintext"
    }
   },
   "source": [
    "7. Un grupo de 60 estudiantes se separa en 3 clases del mismo tamaño. Jack y Jill son estudiantes de este grupo. ¿Cuál es la probabilidad de que les toque en la misma clase?"
   ]
  },
  {
   "cell_type": "code",
   "execution_count": 10,
   "metadata": {
    "vscode": {
     "languageId": "ruby"
    }
   },
   "outputs": [
    {
     "name": "stdout",
     "output_type": "stream",
     "text": [
      "la probabilidad de que Jack y Jill queden en el mismo grupo es 0.3220338983050847\n"
     ]
    }
   ],
   "source": [
    "# La probabilidad de que Jack quede en el grupo 1 es 20/60\n",
    "# La probalidad de que Jill quede también en el grupo 1 es 19/59\n",
    "# Estos dos son eventos independientes, entonces la probabilidad de que Jack y Jill queden en el grupo 1 es:\n",
    "probabilidad_jack_jill_grupo_1 = 20/60 * 19/59\n",
    "# Este mismo razonamiento se puede aplicar para los otros dos grupos (2 y 3)\n",
    "# De modo que la probabilidad de que Jack y Jill queden en el mismo grupo es:\n",
    "probabilidad_jack_jill_mismo_grupo = probabilidad_jack_jill_grupo_1 * 3\n",
    "print('la probabilidad de que Jack y Jill queden en el mismo grupo es', probabilidad_jack_jill_mismo_grupo)"
   ]
  },
  {
   "cell_type": "markdown",
   "metadata": {},
   "source": [
    "8. Se tiene la moneda A y la moneda B. La moneda A tiene 1/2 de probabilidad de salir águila o sol en cada tirada. La probabilidad de sacar sol en la moneda B es 1/3. Si seleccionamos una moneda aleatóreamente y la tiramos hasta obtener sol. La probabilidad de seleccionar la moneda A es 1/4 y la probabilidad de seleccionar la moneda B es 3/4. ¿Cuál es el número esperado de veces que tiraremos la moneda para obtener sol?"
   ]
  },
  {
   "cell_type": "code",
   "execution_count": 30,
   "metadata": {},
   "outputs": [
    {
     "name": "stdout",
     "output_type": "stream",
     "text": [
      "el número esperado de tiradas es: 2.75167\n"
     ]
    }
   ],
   "source": [
    "# Usando Montecarlo para resolver el problema\n",
    "\n",
    "import numpy as np\n",
    "\n",
    "# Probabilidades dadas\n",
    "proba_seleccionar_A = 1/4\n",
    "proba_seleccionar_B = 3/4\n",
    "proba_sol_A = 1/2\n",
    "proba_sol_B = 1/3\n",
    "\n",
    "n_sim = 100000\n",
    "\n",
    "def tirar_hasta_sol():\n",
    "    # Seleccionamos una moneda aleatoriamente (seleccionamos un número entre 0 y 1 y vemos si es menor a la probabilidad de seleccionar A)\n",
    "    if np.random.rand() < proba_seleccionar_A:\n",
    "        # si se cumple la condición de arriba entonces seleccionamos la moneda A\n",
    "        proba_sol = proba_sol_A\n",
    "    else:\n",
    "        # si no se cumple seleccionamos la moneda B\n",
    "        proba_sol = proba_sol_B\n",
    "    \n",
    "    # Tiramos la moneda que nos salió hasta obtener un sol\n",
    "    num_tiradas = 0\n",
    "    while True:\n",
    "        num_tiradas += 1\n",
    "        if np.random.rand() < proba_sol:\n",
    "            break\n",
    "    return num_tiradas\n",
    "\n",
    "simulacion = [tirar_hasta_sol() for i in range(n_sim)]\n",
    "numero_esperado_tiradas = np.mean(simulacion)\n",
    "print(\"el número esperado de tiradas es:\", numero_esperado_tiradas)"
   ]
  },
  {
   "cell_type": "markdown",
   "metadata": {},
   "source": [
    "9. Una compañia de seguros vende seguro de vida que paga 240000.- pesos y la póliza es válida por 1 año. Le vende el seguro a una jóven de 25 años por 210 pesos. La probabilidad de que la cliente sobreviva el año es 0.999592 . ¿Cual es el valor esperado de esta póliza para la compañía de seguros?  "
   ]
  },
  {
   "cell_type": "code",
   "execution_count": 1,
   "metadata": {},
   "outputs": [
    {
     "name": "stdout",
     "output_type": "stream",
     "text": [
      "112.08000000000865\n"
     ]
    }
   ],
   "source": [
    "# La probabilidad de que la joven sobreviva un año es de 0.999592\n",
    "probabilidad_viva = 0.999592\n",
    "# La probabilidad de que la joven no sobreviva es de\n",
    "probabilidad_no_viva = 1 - probabilidad_viva\n",
    "# Si la joven sobrevive, el seguro paga 0, si no sobrevive, el seguro paga 240000\n",
    "# Entonces el valor esperado del seguro es\n",
    "valor_esperado = probabilidad_viva * 0 + probabilidad_no_viva * 240000\n",
    "# Como la póliza vale 210 pesos entonces el valor esperado de la póliza para el seguro (o la ganancia) es de:\n",
    "print (210 - valor_esperado)"
   ]
  },
  {
   "cell_type": "markdown",
   "metadata": {},
   "source": [
    "10. Una ruleta tiene 38 sitios. 18 son rojos, 18 son negros y 2 verdes. Si juegas 5 veces y siempre apuestas al rojo. ¿Cuántos juegos se puede esperar ganar?"
   ]
  },
  {
   "cell_type": "code",
   "execution_count": 58,
   "metadata": {},
   "outputs": [
    {
     "name": "stdout",
     "output_type": "stream",
     "text": [
      "2.3684210526315788\n"
     ]
    }
   ],
   "source": [
    "# La ruleta tiene 38 casillas, de las cuales 18 son rojas, esto es fijo (Siempre es igual para cada ronda)\n",
    "# La probabilidad de ganar un juego si apuesto al rojo:\n",
    "\n",
    "gana_rojo = 18 / 38\n",
    "\n",
    "# Como cada juego es independiente entonces\n",
    "# el número esperado de juegos ganados en 5 intentos si siempre apuesto al rojo es:\n",
    "num_juegos = 5\n",
    "num_esperado_ganados_rojo = num_juegos * gana_rojo\n",
    "\n",
    "print(num_esperado_ganados_rojo)"
   ]
  },
  {
   "cell_type": "markdown",
   "metadata": {},
   "source": [
    "11. Una ruleta tiene 38 sitios. 18 son rojos, 18 son negros y 2 verdes. Si juegas 5 veces y siempre apuestas al rojo. ¿Cual es la probabilidad de ganar los 5 juegos?"
   ]
  },
  {
   "cell_type": "code",
   "execution_count": 60,
   "metadata": {},
   "outputs": [
    {
     "name": "stdout",
     "output_type": "stream",
     "text": [
      "0.023847592523562257\n"
     ]
    }
   ],
   "source": [
    "# La probabilidad de ganar cada juego apostando al rojo es de 18/38\n",
    "# Tendremos cinco eventos independientes, por lo que la probabilidad de ganar los cinco juegos es:\n",
    "ganar_5_rojo = (18/38)**5\n",
    "print(ganar_5_rojo)"
   ]
  },
  {
   "cell_type": "markdown",
   "metadata": {},
   "source": [
    "12. Considera la siguiente densidad de probabilidad $\\frac{1}{8}e^{-x/8}$ para x>=0. ¿Cual es la probabilidad de X<=6?"
   ]
  },
  {
   "cell_type": "code",
   "execution_count": 64,
   "metadata": {},
   "outputs": [
    {
     "name": "stdout",
     "output_type": "stream",
     "text": [
      "la probabilidad de que X sea menor o igual que 6 es: 0.5276334472589852\n"
     ]
    }
   ],
   "source": [
    "from scipy.integrate import quad\n",
    "import numpy as np\n",
    "\n",
    "# Tenemos la función de densidad de probabilidad analiticamente\n",
    "# Entonces la probabilidad de que X sea mayor a 0 y menor a 6 es la integral definida de la función de 0 a 6:\n",
    "def densidad_de_probabilidad(x):\n",
    "    return (1/8) * np.exp(-x/8)\n",
    "probabilidad, _ = quad(densidad_de_probabilidad, 0, 6)\n",
    "\n",
    "print ('la probabilidad de que X sea menor o igual que 6 es:', probabilidad)"
   ]
  },
  {
   "cell_type": "markdown",
   "metadata": {},
   "source": [
    "13. ¿Cuál es la probabilidad de que estudiantes tengan su cumpleaños en el mismo día en una clase de 30 estudiantes?"
   ]
  },
  {
   "cell_type": "code",
   "execution_count": 31,
   "metadata": {},
   "outputs": [
    {
     "name": "stdout",
     "output_type": "stream",
     "text": [
      "La probabilidad de estudiantes compartan cumpleaños en un grupo de 30 es 0.705\n"
     ]
    }
   ],
   "source": [
    "# Supongamos que la probabilidad de nacer en un día dado es uniformemente distrubuida\n",
    "# Es decir, todos los días tienen la misma probabilidad\n",
    "# Supongamos que el año tiene 365 días (no es biciesto) y que cada día es un número entre 1 y 365 (inclusive)\n",
    "# Tomamos una muestra de 30 números de los 365 con reemplazo (puede haber días repetidos) y revisamos si hay al menos dos valores repetidos\n",
    "# Hagamos esta simulación varias veces (montecarlo) y contemos en cuántas instancias encontramos al menos dos valores repetidos\n",
    "\n",
    "\n",
    "# Función para verificar si hay cumpleaños compartidos en una lista de cumpleaños\n",
    "def mismo_cumpleaños(cumpleaños):\n",
    "    return len(cumpleaños) != len(set(cumpleaños))\n",
    "\n",
    "n_sim = 1000\n",
    "contador_cumpleaños_compartido = 0\n",
    "n_est = 30\n",
    "n_dias = 365\n",
    "\n",
    "for i in range(n_sim):\n",
    "    # Generar cumpleaños aleatorios para los estudiantes\n",
    "    cumpleaños = np.random.randint(0, n_dias, n_est)\n",
    "    if mismo_cumpleaños(cumpleaños):\n",
    "        contador_cumpleaños_compartido += 1\n",
    "\n",
    "# Calcular la probabilidad de cumpleaños compartidos\n",
    "prob_cumpleaños_compartido = contador_cumpleaños_compartido / n_sim\n",
    "print('La probabilidad de estudiantes compartan cumpleaños en un grupo de 30 es',prob_cumpleaños_compartido)\n"
   ]
  },
  {
   "cell_type": "markdown",
   "metadata": {
    "vscode": {
     "languageId": "plaintext"
    }
   },
   "source": [
    "14. Si estás vendiendo sandwiches. Y el 70\\% de las personas elgien de huevo y el resto de pollo. ¿Cuál es la probabilidad de vender 2 sandwiches de huevo dentro de los 3 siguientes clientes?"
   ]
  },
  {
   "cell_type": "code",
   "execution_count": 80,
   "metadata": {},
   "outputs": [
    {
     "name": "stdout",
     "output_type": "stream",
     "text": [
      "8\n",
      "La probabilidad de vender dos sandwiches de huevo es: 0.44099999999999995\n"
     ]
    }
   ],
   "source": [
    "# El espacio muestral de vender tres sandwiches es (p=pollo, h=huevo):\n",
    "espacio_muestral = [('p', 'p', 'p'), ('p', 'p', 'h'), ('p', 'h', 'p'), ('h', 'p', 'p'), ('h', 'h', 'p'), ('h', 'p', 'h'), ('p', 'h', 'h'), ('h', 'h', 'h')]\n",
    "#  En el espacio  muestral hay tres combinaciones en las que se venden dos sandwiches de huevo y son\n",
    "c1 = ('p', 'h', 'h')\n",
    "c2 = ('h', 'h', 'p')\n",
    "c3 = ('h', 'p', 'h')\n",
    "# Entonces la probabilidad de vender dos sandwiches de huevo es la suma de las probabilidades de estas tres combinaciones:\n",
    "# Tenemos que\n",
    "p_huevo = 0.7\n",
    "p_pollo = 0.3\n",
    "prob_c1 = p_pollo * p_huevo * p_huevo\n",
    "prob_c2 = p_huevo * p_huevo * p_pollo\n",
    "prob_c3 = p_huevo * p_pollo * p_huevo\n",
    "prob_vender_2_huevo = prob_c1 + prob_c2 + prob_c3\n",
    "print(\"La probabilidad de vender dos sandwiches de huevo es:\", prob_vender_2_huevo)\n"
   ]
  },
  {
   "cell_type": "markdown",
   "metadata": {},
   "source": [
    "15. Un hostipal ha registrado que el 75\\% de pacientes sufriendo una enfermedad mueren debido a ella. ¿Cuál es la probabilidad de que 4 de 6 pacientes seleccionados al azar se recuperen?"
   ]
  },
  {
   "cell_type": "code",
   "execution_count": 95,
   "metadata": {},
   "outputs": [
    {
     "name": "stdout",
     "output_type": "stream",
     "text": [
      "La probabilidad de que exactamente 4 de los 6 pacientes vivan es: 0.032958984375\n"
     ]
    }
   ],
   "source": [
    "# Tenemos que la probabilidad de muerte es\n",
    "p_muerte = 0.75\n",
    "p_vida = 0.25\n",
    "# Teniendo 6 pacientes, el tamaño del espacio muestral de vida o muerte para esos seis pacientes es:\n",
    "len_espacio_muestral = 2**6\n",
    "\n",
    "# Ahora hay que obtener el número de casos favorables en los que exactamente 4 de los 6 de los pacientes vive.\n",
    "# El número de maneras de organizar 4 'vida' en 6 pacientes está dado por la combinación:\n",
    "casos_favorables = 6*5*4*3/(4*3*2*1)\n",
    "\n",
    "# Veamos que la probabilidad de cualquier caso donde 4 pacientes viven y dos mueren es:\n",
    "probabilidad_4_vida_por_caso = p_vida**4 * p_muerte**2\n",
    "\n",
    "# Entonces la probabilidad de que exactamente 4 de los 6 pacientes vivan es:\n",
    "probabilidad_4_vida = casos_favorables * probabilidad_4_vida_por_caso\n",
    "print(\"La probabilidad de que exactamente 4 de los 6 pacientes vivan es:\", probabilidad_4_vida)"
   ]
  },
  {
   "cell_type": "markdown",
   "metadata": {},
   "source": [
    "16. En una clase se realizaron 2 exámenes. El 25\\% de los estudiantes aprobó los 2 exámenes. El 45 \\% aprobó el primer examen. ¿Que porcentaje aprobó el 2o examen?"
   ]
  },
  {
   "cell_type": "code",
   "execution_count": 17,
   "metadata": {},
   "outputs": [
    {
     "name": "stdout",
     "output_type": "stream",
     "text": [
      "El porcentaje de estudiantes que aprobaron el segundo examen es 55.55555555555556 %\n"
     ]
    }
   ],
   "source": [
    "# Sabemos que el 25% de los estudiantes aprobaron ambos exámenes y que el 45% aprobó el primero\n",
    "# Sea A aprobar el primer examen y B aprobar el segundo examen\n",
    "# Usamos la fórmula de probabilidad condicional: P(B|A) = P(A ∩ B) / P(A) (Porque si aprobaron ambos, entonces como condición debieron aprobaron el primero)\n",
    "\n",
    "aprobados_ambos = 0.25\n",
    "aprobados_primero = 0.45\n",
    "\n",
    "prob_aprobar_ambos = aprobados_ambos / aprobados_primero\n",
    "print('El porcentaje de estudiantes que aprobaron el segundo examen es', prob_aprobar_ambos * 100,'%')\n"
   ]
  },
  {
   "cell_type": "markdown",
   "metadata": {},
   "source": [
    "17. Jack tiene 2 monedas. Una normal (2 lados distintos) y otra que tiene \"sol\" por los 2 lados. Si no se da cuenta que moneda arrojó y cayó \"sol\". ¿Cual es la probabilidad de que la moneda que arrojó sea la que tiene \"sol\" por ambos lados?"
   ]
  },
  {
   "cell_type": "code",
   "execution_count": 21,
   "metadata": {},
   "outputs": [
    {
     "name": "stdout",
     "output_type": "stream",
     "text": [
      "La probabilidad de que la moneda arrojada sea la doble sol es: 0.6666666666666666\n"
     ]
    }
   ],
   "source": [
    "# Supongamos que la probabilidad de seleccionar cada moneda para arrojarla es la misma, entonces\n",
    "prob_moneda_normal = 1 / 2\n",
    "prob_moneda_doble = 1 / 2\n",
    "\n",
    "# Las probabilidades de sacar \"sol\" con la moneda normal y con la moneda de doble sol son\n",
    "prob_sol_moneda_normal = 1 / 2\n",
    "prob_sol_moneda_doble = 1\n",
    "\n",
    "# La probabilidad total de sacar \"sol\" es\n",
    "prob_sol = (prob_sol_moneda_normal * prob_moneda_normal) + (prob_sol_moneda_doble * prob_moneda_doble)\n",
    "\n",
    "# Sea P(A) la probabilidad de seleccionar la moneda de doble sol (prob_moneda_doble)\n",
    "# Sea P(B) la probabilidad de sacar \"sol\" (prob_sol)\n",
    "# Sea P(B|A) la probabilidad de sacar \"sol\" con la moneda de doble sol (prob_sol_moneda_doble)\n",
    "# Sea P(A|B) la probabilidad de seleccionar la moneda de doble sol si salió \"sol\" (lo que buscamos)\n",
    "# Entonces, por la fórmula de Bayes, tenemos que\n",
    "# P(A|B) = P(B|A) * P(A) / P(B)\n",
    "\n",
    "prob_moneda_doble_dado_sol = (prob_sol_moneda_doble * prob_moneda_doble) / prob_sol\n",
    "\n",
    "print(\"La probabilidad de que la moneda arrojada sea la doble sol es:\", prob_moneda_doble_dado_sol)"
   ]
  },
  {
   "cell_type": "markdown",
   "metadata": {},
   "source": [
    "18. La probabilidad de tener cierta enfermedad en una población es de 0.00148. La prueba de laboratorio para dicha enfermedad tiene una tasa de 93\\% de verdaderos positivos (sale positiva cuando realmente se tiene la enfermedad el 93 \\% de las veces). Y su tasa de verdaderos negativos es de 99 \\% (Sale negativa cuando no se tiene la enfermedad el 99 \\% de las veces). ¿Cuál es la probabilidad de tener la enfermedad dado que la prueba salió positiva? Nota: Recordar el teorema de Bayes P(A | B)P(B) = P(B|A)P(A)"
   ]
  },
  {
   "cell_type": "code",
   "execution_count": 32,
   "metadata": {},
   "outputs": [
    {
     "name": "stdout",
     "output_type": "stream",
     "text": [
      "la probabilidad de tener la enfermedad si la prueba sale positiva es de: 0.12114490916772278\n"
     ]
    }
   ],
   "source": [
    "# La probabilidad de tener la enfermedaden cuestión en la población es de\n",
    "prob_enf = 0.00148\n",
    "# Por lo tanto la probabilidad de no tener la enfermedad es\n",
    "prob_no_enf = 1 - prob_enf\n",
    "\n",
    "# La tasa de verdaderos positivos es 93%, (si SÍ tienes la enfermedad, la prueba saldría positiva el 93% de las veces)\n",
    "prob_pos_dado_enf = 0.93\n",
    "# La tasa de verdaderos negativos es 99%, (si NO tienes la enfermedad, la prueba saldría negativa el 99% de las veces)\n",
    "prob_neg_dado_no_enf = 0.99\n",
    "\n",
    "# Calculamos la probabilidad total de obtener un resultado positivo (tenemos que considerar tanto los verdaderos positivos como los falsos positivos)\n",
    "prob_pos = (prob_pos_dado_enf * prob_enf) + ((1 - prob_neg_dado_no_enf) * prob_no_enf)\n",
    "\n",
    "# Ahora usamos el teorema de Bayes para calcular la probabilidad de tener la enfermedad dado que la prueba salió positiva\n",
    "# Tenemos que P(A|B) = P(B|A) * P(A) / P(B)\n",
    "# Donde P(A) es la probabilidad de tener la enfermedad (prob_enf), P(B) es obtener un resultado positivo (prob_pos)\n",
    "# P(B|A) es la probabilidad de obtener un resultado positivo dado que tienes la enfermedad (prob_pos_dado_enf)\n",
    "# Y P(A|B) es la probabilidad de tener la enfermedad dado que obtuviste un resultado positivo (prob_enf_dado_pos), que es lo que buscamos, entonces:\n",
    "\n",
    "prob_enf_dado_pos = (prob_pos_dado_enf * prob_enf) / prob_pos\n",
    "\n",
    "print('la probabilidad de tener la enfermedad si la prueba sale positiva es de:', prob_enf_dado_pos)"
   ]
  },
  {
   "cell_type": "markdown",
   "metadata": {},
   "source": [
    "19. Haz un código que escriba letras y el espacio con la misma frecuencia con que aparecen en el cuento de Alicia en el País de las Maravillas : https://github.com/andergd/separadorSilabas/blob/master/Carroll%2C%20Lewis%20-%20Alicia%20En%20El%20Pa%C3%ADs%20De%20Las%20Maravillas.txt"
   ]
  },
  {
   "cell_type": "code",
   "execution_count": 2,
   "metadata": {},
   "outputs": [
    {
     "name": "stdout",
     "output_type": "stream",
     "text": [
      "--2024-09-13 23:08:01--  https://github.com/andergd/separadorSilabas/blob/master/Carroll%2C%20Lewis%20-%20Alicia%20En%20El%20Pa%C3%ADs%20De%20Las%20Maravillas.txt\n",
      "Resolving github.com (github.com)... 140.82.113.4\n",
      "Connecting to github.com (github.com)|140.82.113.4|:443... connected.\n",
      "HTTP request sent, awaiting response... 200 OK\n",
      "Length: unspecified [text/html]\n",
      "Saving to: ‘Carroll, Lewis - Alicia En El País De Las Maravillas.txt.10’\n",
      "\n",
      "Carroll, Lewis - Al     [  <=>               ] 334.39K  1.03MB/s    in 0.3s    \n",
      "\n",
      "2024-09-13 23:08:02 (1.03 MB/s) - ‘Carroll, Lewis - Alicia En El País De Las Maravillas.txt.10’ saved [342413]\n",
      "\n"
     ]
    }
   ],
   "source": [
    "!wget 'https://github.com/andergd/separadorSilabas/blob/master/Carroll%2C%20Lewis%20-%20Alicia%20En%20El%20Pa%C3%ADs%20De%20Las%20Maravillas.txt'\n",
    "\n",
    "with open('Carroll, Lewis - Alicia En El País De Las Maravillas.txt', 'r', encoding='utf-8') as f:\n",
    "    texto = f.read()"
   ]
  },
  {
   "cell_type": "code",
   "execution_count": 3,
   "metadata": {},
   "outputs": [
    {
     "name": "stdout",
     "output_type": "stream",
     "text": [
      "momoopiagla s esgeefteod ooltairr a oserlygeeJoineojodgarlvnlnlac aecarnl ueacbhgd aoa eemteansr  n anLaim et  ssc saqymra coAssSns o oras irran soosb  d candnt gio ekqa r eaa od t   Ana nnreortssiu  \n"
     ]
    }
   ],
   "source": [
    "# Primero creamos un diccionario con la frecuencia de cada caracter en el texto\n",
    "frec_caracteres = {caracter: texto.count(caracter) for caracter in set(texto)}\n",
    "\n",
    "# Filtramos para que solo queden letras y espacios\n",
    "import string\n",
    "frecuencia_caracteres_filtrada = {k: v for k, v in frec_caracteres.items() if k in string.ascii_letters or k == ' '}\n",
    "\n",
    "# Calculamos la suma de todos los valores en el diccionario (para normalizar)\n",
    "total = sum(frecuencia_caracteres_filtrada.values())\n",
    "# Normalizamos los valores dividiendo cada valor por la suma calculada anteriormente\n",
    "frecuencia_caracteres_normalizada = {k: v / total for k, v in frecuencia_caracteres_filtrada.items()}\n",
    "\n",
    "# Construimos una función que toma la distribución de probabilidad que construimos en el diccionario inicial\n",
    "# y muestrea k valores de acuerdo a esa distribución\n",
    "import random\n",
    "def muestreo_desde_distribucion(distribucion, k=1):\n",
    "    valores = list(distribucion.keys())\n",
    "    probabilidades = list(distribucion.values())\n",
    "    return random.choices(valores, probabilidades, k=k)\n",
    "\n",
    "# Generamos una muestra de 100 caracteres\n",
    "muestra = muestreo_desde_distribucion(frecuencia_caracteres_normalizada, k=200)\n",
    "texto_muestra = ''.join(muestra)\n",
    "print(texto_muestra)"
   ]
  },
  {
   "cell_type": "code",
   "execution_count": 4,
   "metadata": {},
   "outputs": [
    {
     "name": "stdout",
     "output_type": "stream",
     "text": [
      " tlsrshseeamidu ckoromw a hyrre pu   geEda vret ataeeeonp irc osscc  a sq b apna ke edesan c q oioa aasl V ri oeri itisoa euppyeuoar ta iaexh umrtolior nqne ueeuthu  cipgnrm eater  eaveev i ooe rg vcD\n"
     ]
    },
    {
     "name": "stderr",
     "output_type": "stream",
     "text": [
      "/var/folders/h3/g5y4x0m51795njc8pdc_dcl80000gn/T/ipykernel_4920/3717508774.py:10: DeprecationWarning: Sampling from a set deprecated\n",
      "since Python 3.9 and will be removed in a subsequent version.\n",
      "  return dict(random.sample(char_dict.items(), n))\n"
     ]
    }
   ],
   "source": [
    "# Una alternativa que se me ocurrió es muestrear directamente desde el texto original\n",
    "# Aquí no tenemos que construir ninguna distribución, no es la idea del problema pero es una alternativa\n",
    "\n",
    "import random\n",
    "\n",
    "characters_list = list(texto)\n",
    "characters_list = [char for char in characters_list if char.isalpha() or char == ' ']\n",
    "characters_dict = {index: char for index, char in enumerate(characters_list)}\n",
    "def sample_characters_dict(char_dict, n):\n",
    "    return dict(random.sample(char_dict.items(), n))\n",
    "sampled_dict = sample_characters_dict(characters_dict, 200)\n",
    "sampled_text = ''.join(list(sampled_dict.values()))\n",
    "print(sampled_text)"
   ]
  },
  {
   "cell_type": "code",
   "execution_count": null,
   "metadata": {},
   "outputs": [],
   "source": []
  }
 ],
 "metadata": {
  "kernelspec": {
   "display_name": "Python 3",
   "language": "python",
   "name": "python3"
  },
  "language_info": {
   "codemirror_mode": {
    "name": "ipython",
    "version": 3
   },
   "file_extension": ".py",
   "mimetype": "text/x-python",
   "name": "python",
   "nbconvert_exporter": "python",
   "pygments_lexer": "ipython3",
   "version": "3.9.6"
  }
 },
 "nbformat": 4,
 "nbformat_minor": 2
}
